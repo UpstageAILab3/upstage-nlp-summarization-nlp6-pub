{
 "cells": [
  {
   "cell_type": "code",
   "execution_count": 1,
   "metadata": {},
   "outputs": [
    {
     "name": "stdout",
     "output_type": "stream",
     "text": [
      "Requirement already satisfied: transformers in /opt/conda/lib/python3.10/site-packages (4.30.2)\n",
      "Requirement already satisfied: datasets in /opt/conda/lib/python3.10/site-packages (2.21.0)\n",
      "Requirement already satisfied: evaluate in /opt/conda/lib/python3.10/site-packages (0.4.2)\n",
      "Requirement already satisfied: rouge_score in /opt/conda/lib/python3.10/site-packages (0.1.2)\n",
      "Requirement already satisfied: filelock in /opt/conda/lib/python3.10/site-packages (from transformers) (3.9.0)\n",
      "Requirement already satisfied: huggingface-hub<1.0,>=0.14.1 in /opt/conda/lib/python3.10/site-packages (from transformers) (0.24.6)\n",
      "Requirement already satisfied: numpy>=1.17 in /opt/conda/lib/python3.10/site-packages (from transformers) (1.23.5)\n",
      "Requirement already satisfied: packaging>=20.0 in /opt/conda/lib/python3.10/site-packages (from transformers) (23.1)\n",
      "Requirement already satisfied: pyyaml>=5.1 in /opt/conda/lib/python3.10/site-packages (from transformers) (6.0)\n",
      "Requirement already satisfied: regex!=2019.12.17 in /opt/conda/lib/python3.10/site-packages (from transformers) (2023.10.3)\n",
      "Requirement already satisfied: requests in /opt/conda/lib/python3.10/site-packages (from transformers) (2.32.3)\n",
      "Requirement already satisfied: tokenizers!=0.11.3,<0.14,>=0.11.1 in /opt/conda/lib/python3.10/site-packages (from transformers) (0.13.3)\n",
      "Requirement already satisfied: safetensors>=0.3.1 in /opt/conda/lib/python3.10/site-packages (from transformers) (0.4.1)\n",
      "Requirement already satisfied: tqdm>=4.27 in /opt/conda/lib/python3.10/site-packages (from transformers) (4.66.5)\n",
      "Requirement already satisfied: pyarrow>=15.0.0 in /opt/conda/lib/python3.10/site-packages (from datasets) (17.0.0)\n",
      "Requirement already satisfied: dill<0.3.9,>=0.3.0 in /opt/conda/lib/python3.10/site-packages (from datasets) (0.3.8)\n",
      "Requirement already satisfied: pandas in /opt/conda/lib/python3.10/site-packages (from datasets) (2.1.4)\n",
      "Requirement already satisfied: xxhash in /opt/conda/lib/python3.10/site-packages (from datasets) (3.5.0)\n",
      "Requirement already satisfied: multiprocess in /opt/conda/lib/python3.10/site-packages (from datasets) (0.70.16)\n",
      "Requirement already satisfied: fsspec[http]<=2024.6.1,>=2023.1.0 in /opt/conda/lib/python3.10/site-packages (from datasets) (2023.9.2)\n",
      "Requirement already satisfied: aiohttp in /opt/conda/lib/python3.10/site-packages (from datasets) (3.9.1)\n",
      "Requirement already satisfied: absl-py in /opt/conda/lib/python3.10/site-packages (from rouge_score) (2.1.0)\n",
      "Requirement already satisfied: nltk in /opt/conda/lib/python3.10/site-packages (from rouge_score) (3.9.1)\n",
      "Requirement already satisfied: six>=1.14.0 in /opt/conda/lib/python3.10/site-packages (from rouge_score) (1.16.0)\n",
      "Requirement already satisfied: attrs>=17.3.0 in /opt/conda/lib/python3.10/site-packages (from aiohttp->datasets) (23.1.0)\n",
      "Requirement already satisfied: multidict<7.0,>=4.5 in /opt/conda/lib/python3.10/site-packages (from aiohttp->datasets) (6.0.4)\n",
      "Requirement already satisfied: yarl<2.0,>=1.0 in /opt/conda/lib/python3.10/site-packages (from aiohttp->datasets) (1.9.4)\n",
      "Requirement already satisfied: frozenlist>=1.1.1 in /opt/conda/lib/python3.10/site-packages (from aiohttp->datasets) (1.4.1)\n",
      "Requirement already satisfied: aiosignal>=1.1.2 in /opt/conda/lib/python3.10/site-packages (from aiohttp->datasets) (1.3.1)\n",
      "Requirement already satisfied: async-timeout<5.0,>=4.0 in /opt/conda/lib/python3.10/site-packages (from aiohttp->datasets) (4.0.3)\n",
      "Requirement already satisfied: typing-extensions>=3.7.4.3 in /opt/conda/lib/python3.10/site-packages (from huggingface-hub<1.0,>=0.14.1->transformers) (4.7.1)\n",
      "Requirement already satisfied: charset-normalizer<4,>=2 in /opt/conda/lib/python3.10/site-packages (from requests->transformers) (2.0.4)\n",
      "Requirement already satisfied: idna<4,>=2.5 in /opt/conda/lib/python3.10/site-packages (from requests->transformers) (3.4)\n",
      "Requirement already satisfied: urllib3<3,>=1.21.1 in /opt/conda/lib/python3.10/site-packages (from requests->transformers) (1.26.16)\n",
      "Requirement already satisfied: certifi>=2017.4.17 in /opt/conda/lib/python3.10/site-packages (from requests->transformers) (2023.7.22)\n",
      "Requirement already satisfied: click in /opt/conda/lib/python3.10/site-packages (from nltk->rouge_score) (8.0.4)\n",
      "Requirement already satisfied: joblib in /opt/conda/lib/python3.10/site-packages (from nltk->rouge_score) (1.4.2)\n",
      "Requirement already satisfied: python-dateutil>=2.8.2 in /opt/conda/lib/python3.10/site-packages (from pandas->datasets) (2.8.2)\n",
      "Requirement already satisfied: pytz>=2020.1 in /opt/conda/lib/python3.10/site-packages (from pandas->datasets) (2023.3.post1)\n",
      "Requirement already satisfied: tzdata>=2022.1 in /opt/conda/lib/python3.10/site-packages (from pandas->datasets) (2023.3)\n",
      "\u001b[33mWARNING: Running pip as the 'root' user can result in broken permissions and conflicting behaviour with the system package manager. It is recommended to use a virtual environment instead: https://pip.pypa.io/warnings/venv\u001b[0m\u001b[33m\n",
      "\u001b[0m"
     ]
    }
   ],
   "source": [
    "!pip install transformers datasets evaluate rouge_score"
   ]
  },
  {
   "cell_type": "code",
   "execution_count": 2,
   "metadata": {},
   "outputs": [],
   "source": [
    "from datasets import load_dataset\n",
    "\n",
    "billsum = load_dataset(\"billsum\", split=\"ca_test\")\n",
    "billsum = billsum.train_test_split(test_size=0.2)"
   ]
  },
  {
   "cell_type": "code",
   "execution_count": 3,
   "metadata": {},
   "outputs": [
    {
     "data": {
      "text/plain": [
       "{'text': 'The people of the State of California do enact as follows:\\n\\n\\nSECTION 1.\\nSection 48900 of the Education Code is amended to read:\\n48900.\\nA pupil shall not be suspended from school or recommended for expulsion, unless the superintendent of the school district or the principal of the school in which the pupil is enrolled determines that the pupil has committed an act as defined pursuant to any of subdivisions (a) to (r), inclusive:\\n(a) (1) Caused, attempted to cause, or threatened to cause physical injury to another person.\\n(2) Willfully used force or violence upon the person of another, except in self-defense.\\n(b) Possessed, sold, or otherwise furnished a firearm, knife, explosive, or other dangerous object, unless, in the case of possession of an object of this type, the pupil had obtained written permission to possess the item from a certificated school employee, which is concurred in by the principal or the designee of the principal.\\n(c) Unlawfully possessed, used, sold, or otherwise furnished, or been under the influence of, a controlled substance listed in Chapter 2 (commencing with Section 11053) of Division 10 of the Health and Safety Code, an alcoholic beverage, or an intoxicant of any kind.\\n(d) Unlawfully offered, arranged, or negotiated to sell a controlled substance listed in Chapter 2 (commencing with Section 11053) of Division 10 of the Health and Safety Code, an alcoholic beverage, or an intoxicant of any kind, and either sold, delivered, or otherwise furnished to a person another liquid, substance, or material and represented the liquid, substance, or material as a controlled substance, alcoholic beverage, or intoxicant.\\n(e) Committed or attempted to commit robbery or extortion.\\n(f) Caused or attempted to cause damage to school property or private property.\\n(g) Stole or attempted to steal school property or private property.\\n(h) Possessed or used tobacco, or products containing tobacco or nicotine products, including, but not limited to, cigarettes, cigars, miniature cigars, clove cigarettes, smokeless tobacco, snuff, chew packets, and betel. However, this section does not prohibit the use or possession by a pupil of his or her own prescription products.\\n(i) Committed an obscene act or engaged in habitual profanity or vulgarity.\\n(j) Unlawfully possessed or unlawfully offered, arranged, or negotiated to sell drug paraphernalia, as defined in Section 11014.5 of the Health and Safety Code.\\n(k) (1) Disrupted school activities or otherwise willfully defied the valid authority of supervisors, teachers, administrators, school officials, or other school personnel engaged in the performance of their duties.\\n(2) Except as provided in Section 48910, a pupil enrolled in kindergarten or any of grades 1 to 3, inclusive, shall not be suspended for any of the acts enumerated in this subdivision, and this subdivision shall not constitute grounds for a pupil enrolled in kindergarten or any of grades 1 to 12, inclusive, to be recommended for expulsion. This paragraph shall become inoperative on July 1, 2018, unless a later enacted statute that becomes operative before July 1, 2018, deletes or extends that date.\\n(l) Knowingly received stolen school property or private property.\\n(m) Possessed an imitation firearm. As used in this section, “imitation firearm” means a replica of a firearm that is so substantially similar in physical properties to an existing firearm as to lead a reasonable person to conclude that the replica is a firearm.\\n(n) Committed or attempted to commit a sexual assault as defined in Section 261, 266c, 286, 288, 288a, or 289 of the Penal Code or committed a sexual battery as defined in Section 243.4 of the Penal Code.\\n(o) Harassed, threatened, or intimidated a pupil who is a complaining witness or a witness in a school disciplinary proceeding for purposes of either preventing that pupil from being a witness or retaliating against that pupil for being a witness, or both.\\n(p) Unlawfully offered, arranged to sell, negotiated to sell, or sold the prescription drug Soma.\\n(q) Engaged in, or attempted to engage in, hazing. For purposes of this subdivision, “hazing” means a method of initiation or preinitiation into a pupil organization or body, whether or not the organization or body is officially recognized by an educational institution, that is likely to cause serious bodily injury or personal degradation or disgrace resulting in physical or mental harm to a former, current, or prospective pupil. For purposes of this subdivision, “hazing” does not include athletic events or school-sanctioned events.\\n(r) Engaged in an act of bullying. For purposes of this subdivision, the following terms have the following meanings:\\n(1) “Bullying” means any severe or pervasive physical or verbal act or conduct, including communications made in writing or by means of an electronic act, and including one or more acts committed by a pupil or group of pupils as defined in Section 48900.2, 48900.3, or 48900.4, directed toward one or more pupils that has or can be reasonably predicted to have the effect of one or more of the following:\\n(A) Placing a reasonable pupil or pupils in fear of harm to that pupil’s or those pupils’ person or property.\\n(B) Causing a reasonable pupil to experience a substantially detrimental effect on his or her physical or mental health.\\n(C) Causing a reasonable pupil to experience substantial interference with his or her academic performance.\\n(D) Causing a reasonable pupil to experience substantial interference with his or her ability to participate in or benefit from the services, activities, or privileges provided by a school.\\n(2) (A) “Electronic act” means the creation or transmission originated on or off the schoolsite, by means of an electronic device, including, but not limited to, a telephone, wireless telephone, or other wireless communication device, computer, or pager, of a communication, including, but not limited to, any of the following:\\n(i) A message, text, sound, video, or image.\\n(ii) A post on a social network Internet Web site, including, but not limited to:\\n(I) Posting to or creating a burn page. “Burn page” means an Internet Web site created for the purpose of having one or more of the effects listed in paragraph (1).\\n(II) Creating a credible impersonation of another actual pupil for the purpose of having one or more of the effects listed in paragraph (1). “Credible impersonation” means to knowingly and without consent impersonate a pupil for the purpose of bullying the pupil and such that another pupil would reasonably believe, or has reasonably believed, that the pupil was or is the pupil who was impersonated.\\n(III) Creating a false profile for the purpose of having one or more of the effects listed in paragraph (1). “False profile” means a profile of a fictitious pupil or a profile using the likeness or attributes of an actual pupil other than the pupil who created the false profile.\\n(B) Notwithstanding paragraph (1) and subparagraph (A), an electronic act shall not constitute pervasive conduct solely on the basis that it has been transmitted on the Internet or is currently posted on the Internet.\\n(3) “Reasonable pupil” means a pupil, including, but not limited to, an exceptional needs pupil, who exercises average care, skill, and judgment in conduct for a person of his or her age, or for a person of his or her age with his or her exceptional needs.\\n(s) A pupil shall not be suspended or expelled for any of the acts enumerated in this section unless the act is related to a school activity or school attendance occurring within a school under the jurisdiction of the superintendent of the school district or principal or occurring within any other school district. A pupil may be suspended or expelled for acts that are enumerated in this section and related to a school activity or school attendance that occur at any time, including, but not limited to, any of the following:\\n(1) While on school grounds.\\n(2) While going to or coming from school.\\n(3) During the lunch period whether on or off the campus.\\n(4) During, or while going to or coming from, a school-sponsored activity.\\n(t) A pupil who aids or abets, as defined in Section 31 of the Penal Code, the infliction or attempted infliction of physical injury to another person may be subject to suspension, but not expulsion, pursuant to this section, except that a pupil who has been adjudged by a juvenile court to have committed, as an aider and abettor, a crime of physical violence in which the victim suffered great bodily injury or serious bodily injury shall be subject to discipline pursuant to subdivision (a).\\n(u) As used in this section, “school property” includes, but is not limited to, electronic files and databases.\\n(v) For a pupil subject to discipline under this section, a superintendent of the school district or principal may use his or her discretion to provide alternatives to suspension or expulsion that are age appropriate and designed to address and correct the pupil’s specific misbehavior as specified in Section 48900.5.\\n(w) It is the intent of the Legislature that alternatives to suspension or expulsion be imposed against a pupil who is truant, tardy, or otherwise absent from school activities.\\nSEC. 1.5.\\nSection 48900 of the Education Code is amended to read:\\n48900.\\nA pupil shall not be suspended from school or recommended for expulsion, unless the superintendent of the school district or the principal of the school in which the pupil is enrolled determines that the pupil has committed an act as defined pursuant to any of subdivisions (a) to (r), inclusive:\\n(a) (1) Caused, attempted to cause, or threatened to cause physical injury to another person.\\n(2) Willfully used force or violence upon the person of another, except in self-defense.\\n(b) Possessed, sold, or otherwise furnished a firearm, knife, explosive, or other dangerous object, unless, in the case of possession of an object of this type, the pupil had obtained written permission to possess the item from a certificated school employee, which is concurred in by the principal or the designee of the principal.\\n(c) Unlawfully possessed, used, sold, or otherwise furnished, or been under the influence of, a controlled substance listed in Chapter 2 (commencing with Section 11053) of Division 10 of the Health and Safety Code, an alcoholic beverage, or an intoxicant of any kind.\\n(d) Unlawfully offered, arranged, or negotiated to sell a controlled substance listed in Chapter 2 (commencing with Section 11053) of Division 10 of the Health and Safety Code, an alcoholic beverage, or an intoxicant of any kind, and either sold, delivered, or otherwise furnished to a person another liquid, substance, or material and represented the liquid, substance, or material as a controlled substance, alcoholic beverage, or intoxicant.\\n(e) Committed or attempted to commit robbery or extortion.\\n(f) Caused or attempted to cause damage to school property or private property.\\n(g) Stole or attempted to steal school property or private property.\\n(h) Possessed or used tobacco, or products containing tobacco or nicotine products, including, but not limited to, cigarettes, cigars, miniature cigars, clove cigarettes, smokeless tobacco, snuff, chew packets, and betel. However, this section does not prohibit the use or possession by a pupil of his or her own prescription products.\\n(i) Committed an obscene act or engaged in habitual profanity or vulgarity.\\n(j) Unlawfully possessed or unlawfully offered, arranged, or negotiated to sell drug paraphernalia, as defined in Section 11014.5 of the Health and Safety Code.\\n(k) (1) Disrupted school activities or otherwise willfully defied the valid authority of supervisors, teachers, administrators, school officials, or other school personnel engaged in the performance of their duties.\\n(2) Except as provided in Section 48910, a pupil enrolled in kindergarten or any of grades 1 to 3, inclusive, shall not be suspended for any of the acts enumerated in this subdivision, and this subdivision shall not constitute grounds for a pupil enrolled in kindergarten or any of grades 1 to 12, inclusive, to be recommended for expulsion. This paragraph shall become inoperative on July 1, 2018, unless a later enacted statute that becomes operative before July 1, 2018, deletes or extends that date.\\n(l) Knowingly received stolen school property or private property.\\n(m) Possessed an imitation firearm. As used in this section, “imitation firearm” means a replica of a firearm that is so substantially similar in physical properties to an existing firearm as to lead a reasonable person to conclude that the replica is a firearm.\\n(n) Committed or attempted to commit a sexual assault as defined in Section 261, 266c, 286, 288, 288a, or 289 of the Penal Code or committed a sexual battery as defined in Section 243.4 of the Penal Code.\\n(o) Harassed, threatened, or intimidated a pupil who is a complaining witness or a witness in a school disciplinary proceeding for purposes of either preventing that pupil from being a witness or retaliating against that pupil for being a witness, or both.\\n(p) Unlawfully offered, arranged to sell, negotiated to sell, or sold the prescription drug Soma.\\n(q) Engaged in, or attempted to engage in, hazing. For purposes of this subdivision, “hazing” means a method of initiation or preinitiation into a pupil organization or body, whether or not the organization or body is officially recognized by an educational institution, that is likely to cause serious bodily injury or personal degradation or disgrace resulting in physical or mental harm to a former, current, or prospective pupil. For purposes of this subdivision, “hazing” does not include athletic events or school-sanctioned events.\\n(r) Engaged in an act of bullying. For purposes of this subdivision, the following terms have the following meanings:\\n(1)  “Bullying” means any severe or pervasive physical or verbal act or conduct, including communications made in writing or by means of an electronic act, and including one or more acts committed by a pupil or group of pupils as defined in Section 48900.2, 48900.3, or 48900.4, directed toward one or more pupils that has or can be reasonably predicted to have the effect of one or more of the following:\\n(A) Placing a reasonable pupil or pupils in fear of harm to that pupil’s or those pupils’ person or property.\\n(B) Causing a reasonable pupil to experience a substantially detrimental effect on his or her physical or mental health.\\n(C) Causing a reasonable pupil to experience substantial interference with his or her academic performance.\\n(D) Causing a reasonable pupil to experience substantial interference with his or her ability to participate in or benefit from the services, activities, or privileges provided by a school.\\n(2) (A) “Electronic act” means the creation or transmission originated on or off the schoolsite, by means of an electronic device, including, but not limited to, a telephone, wireless telephone, or other wireless communication device, computer, or pager, of a communication, including, but not limited to, any of the following:\\n(i) A message, text, sound, video, or image.\\n(ii) A post on a social network Internet Web site, including, but not limited to:\\n(I) Posting to or creating a burn page. “Burn page” means an Internet Web site created for the purpose of having one or more of the effects listed in paragraph (1).\\n(II) Creating a credible impersonation of another actual pupil for the purpose of having one or more of the effects listed in paragraph (1). “Credible impersonation” means to knowingly and without consent impersonate a pupil for the purpose of bullying the pupil and such that another pupil would reasonably believe, or has reasonably believed, that the pupil was or is the pupil who was impersonated.\\n(III) Creating a false profile for the purpose of having one or more of the effects listed in paragraph (1). “False profile” means a profile of a fictitious pupil or a profile using the likeness or attributes of an actual pupil other than the pupil who created the false profile.\\n(iii) An act of cyber sexual bullying.\\n(I) For purposes of this clause, “cyber sexual bullying” means the dissemination of, or the solicitation or incitement to disseminate, a photograph or other visual recording by a pupil to another pupil or to school personnel by means of an electronic act that has or can be reasonably predicted to have one or more of the effects described in subparagraphs (A) to (D), inclusive, of paragraph (1). A photograph or other visual recording, as described above, shall include the depiction of a nude, semi-nude, or sexually explicit photograph or other visual recording of a minor where the minor is identifiable from the photograph, visual recording, or other electronic act.\\n(II) For purposes of this clause, “cyber sexual bullying” does not include a depiction, portrayal, or image that has any serious literary, artistic, educational, political, or scientific value or that involves athletic events or school-sanctioned activities.\\n(B) Notwithstanding paragraph (1) and subparagraph (A), an electronic act shall not constitute pervasive conduct solely on the basis that it has been transmitted on the Internet or is currently posted on the Internet.\\n(3) “Reasonable pupil” means a pupil, including, but not limited to, an exceptional needs pupil, who exercises average care, skill, and judgment in conduct for a person of his or her age, or for a person of his or her age with his or her exceptional needs.\\n(s) A pupil shall not be suspended or expelled for any of the acts enumerated in this section unless the act is related to a school activity or school attendance occurring within a school under the jurisdiction of the superintendent of the school district or principal or occurring within any other school district. A pupil may be suspended or expelled for acts that are enumerated in this section and related to a school activity or school attendance that occur at any time, including, but not limited to, any of the following:\\n(1) While on school grounds.\\n(2) While going to or coming from school.\\n(3) During the lunch period whether on or off the campus.\\n(4) During, or while going to or coming from, a school-sponsored activity.\\n(t) A pupil who aids or abets, as defined in Section 31 of the Penal Code, the infliction or attempted infliction of physical injury to another person may be subject to suspension, but not expulsion, pursuant to this section, except that a pupil who has been adjudged by a juvenile court to have committed, as an aider and abettor, a crime of physical violence in which the victim suffered great bodily injury or serious bodily injury shall be subject to discipline pursuant to subdivision (a).\\n(u) As used in this section, “school property” includes, but is not limited to, electronic files and databases.\\n(v) For a pupil subject to discipline under this section, a superintendent of the school district or principal may use his or her discretion to provide alternatives to suspension or expulsion that are age appropriate and designed to address and correct the pupil’s specific misbehavior as specified in Section 48900.5.\\n(w) It is the intent of the Legislature that alternatives to suspension or expulsion be imposed against a pupil who is truant, tardy, or otherwise absent from school activities.\\nSEC. 2.\\nSection 1.5 of this bill incorporates amendments to Section 48900 of the Education Code proposed by both this bill and Assembly Bill 2536. It shall only become operative if (1) both bills are enacted and become effective on or before January 1, 2017, (2) each bill amends Section 48900 of the Education Code, and (3) this bill is enacted after Assembly Bill 2536, in which case Section 1 of this bill shall not become operative.',\n",
       " 'summary': '(1)\\xa0Existing law prohibits the suspension, or recommendation for expulsion, of a pupil from school unless the superintendent of the school district or the principal of the school determines that the pupil has committed any of various specified acts, including, but not limited to, engaging in an act of bullying by means of an electronic act. Existing law defines “electronic act” as the creation or transmission originated on or off the schoolsite, by means of an electronic device, including, but not limited to, a telephone, wireless telephone, or other wireless communication device, computer, or pager, of a communication, including, but not limited to, a message, text, sound, or image, or a post on a social network Internet Web site.\\nThis bill would expressly include a video within the definition of what constitutes an electronic act.\\n(2)\\xa0This bill would incorporate additional changes to Section 48900 of the Education Code proposed by AB 2536 that would become operative if this bill and AB 2536 are both enacted and this bill is enacted last.',\n",
       " 'title': 'An act to amend Section 48900 of the Education Code, relating to pupils.'}"
      ]
     },
     "execution_count": 3,
     "metadata": {},
     "output_type": "execute_result"
    }
   ],
   "source": [
    "billsum[\"train\"][0]"
   ]
  },
  {
   "cell_type": "code",
   "execution_count": 4,
   "metadata": {},
   "outputs": [
    {
     "name": "stderr",
     "output_type": "stream",
     "text": [
      "/opt/conda/lib/python3.10/site-packages/huggingface_hub/file_download.py:1150: FutureWarning: `resume_download` is deprecated and will be removed in version 1.0.0. Downloads always resume when possible. If you want to force a new download, use `force_download=True`.\n",
      "  warnings.warn(\n"
     ]
    }
   ],
   "source": [
    "from transformers import AutoTokenizer\n",
    "\n",
    "checkpoint = \"google-t5/t5-small\"\n",
    "tokenizer = AutoTokenizer.from_pretrained(checkpoint)"
   ]
  },
  {
   "cell_type": "code",
   "execution_count": 5,
   "metadata": {},
   "outputs": [],
   "source": [
    "prefix = \"summarize: \"\n",
    "\n",
    "\n",
    "def preprocess_function(examples):\n",
    "    inputs = [prefix + doc for doc in examples[\"text\"]]\n",
    "    model_inputs = tokenizer(inputs, max_length=1024, truncation=True)\n",
    "\n",
    "    labels = tokenizer(text_target=examples[\"summary\"], max_length=128, truncation=True)\n",
    "\n",
    "    model_inputs[\"labels\"] = labels[\"input_ids\"]\n",
    "    return model_inputs"
   ]
  },
  {
   "cell_type": "code",
   "execution_count": 6,
   "metadata": {},
   "outputs": [
    {
     "data": {
      "application/vnd.jupyter.widget-view+json": {
       "model_id": "fdb8ba7b20f64c3e94939c08a0543b15",
       "version_major": 2,
       "version_minor": 0
      },
      "text/plain": [
       "Map:   0%|          | 0/989 [00:00<?, ? examples/s]"
      ]
     },
     "metadata": {},
     "output_type": "display_data"
    },
    {
     "data": {
      "application/vnd.jupyter.widget-view+json": {
       "model_id": "523782fb70bf4142815997904c4b6dcc",
       "version_major": 2,
       "version_minor": 0
      },
      "text/plain": [
       "Map:   0%|          | 0/248 [00:00<?, ? examples/s]"
      ]
     },
     "metadata": {},
     "output_type": "display_data"
    }
   ],
   "source": [
    "tokenized_billsum = billsum.map(preprocess_function, batched=True)"
   ]
  },
  {
   "cell_type": "code",
   "execution_count": 7,
   "metadata": {},
   "outputs": [],
   "source": [
    "from transformers import DataCollatorForSeq2Seq\n",
    "\n",
    "data_collator = DataCollatorForSeq2Seq(tokenizer=tokenizer, model=checkpoint)"
   ]
  },
  {
   "cell_type": "code",
   "execution_count": 8,
   "metadata": {},
   "outputs": [],
   "source": [
    "import evaluate\n",
    "\n",
    "rouge = evaluate.load(\"rouge\")"
   ]
  },
  {
   "cell_type": "code",
   "execution_count": 9,
   "metadata": {},
   "outputs": [],
   "source": [
    "import numpy as np\n",
    "\n",
    "\n",
    "def compute_metrics(eval_pred):\n",
    "    predictions, labels = eval_pred\n",
    "    decoded_preds = tokenizer.batch_decode(predictions, skip_special_tokens=True)\n",
    "    labels = np.where(labels != -100, labels, tokenizer.pad_token_id)\n",
    "    decoded_labels = tokenizer.batch_decode(labels, skip_special_tokens=True)\n",
    "\n",
    "    result = rouge.compute(predictions=decoded_preds, references=decoded_labels, use_stemmer=True)\n",
    "\n",
    "    prediction_lens = [np.count_nonzero(pred != tokenizer.pad_token_id) for pred in predictions]\n",
    "    result[\"gen_len\"] = np.mean(prediction_lens)\n",
    "\n",
    "    return {k: round(v, 4) for k, v in result.items()}"
   ]
  },
  {
   "cell_type": "code",
   "execution_count": 10,
   "metadata": {},
   "outputs": [
    {
     "name": "stderr",
     "output_type": "stream",
     "text": [
      "/opt/conda/lib/python3.10/site-packages/huggingface_hub/file_download.py:1150: FutureWarning: `resume_download` is deprecated and will be removed in version 1.0.0. Downloads always resume when possible. If you want to force a new download, use `force_download=True`.\n",
      "  warnings.warn(\n"
     ]
    }
   ],
   "source": [
    "from transformers import AutoModelForSeq2SeqLM, Seq2SeqTrainingArguments, Seq2SeqTrainer\n",
    "\n",
    "model = AutoModelForSeq2SeqLM.from_pretrained(checkpoint)"
   ]
  },
  {
   "cell_type": "code",
   "execution_count": 11,
   "metadata": {},
   "outputs": [
    {
     "name": "stderr",
     "output_type": "stream",
     "text": [
      "Detected kernel version 5.4.0, which is below the recommended minimum of 5.5.0; this can cause the process to hang. It is recommended to upgrade the kernel to the minimum version or higher.\n",
      "/opt/conda/lib/python3.10/site-packages/transformers/optimization.py:411: FutureWarning: This implementation of AdamW is deprecated and will be removed in a future version. Use the PyTorch implementation torch.optim.AdamW instead, or set `no_deprecation_warning=True` to disable this warning\n",
      "  warnings.warn(\n",
      "Failed to detect the name of this notebook, you can set it manually with the WANDB_NOTEBOOK_NAME environment variable to enable code saving.\n",
      "\u001b[34m\u001b[1mwandb\u001b[0m: Currently logged in as: \u001b[33mjylee9018\u001b[0m (\u001b[33mupstage6_doc_classification\u001b[0m). Use \u001b[1m`wandb login --relogin`\u001b[0m to force relogin\n"
     ]
    },
    {
     "data": {
      "text/html": [
       "Tracking run with wandb version 0.17.8"
      ],
      "text/plain": [
       "<IPython.core.display.HTML object>"
      ]
     },
     "metadata": {},
     "output_type": "display_data"
    },
    {
     "data": {
      "text/html": [
       "Run data is saved locally in <code>/data/ephemeral/home/upstage-nlp-summarization-nlp6/jylee/wandb/run-20240910_191427-iedplabw</code>"
      ],
      "text/plain": [
       "<IPython.core.display.HTML object>"
      ]
     },
     "metadata": {},
     "output_type": "display_data"
    },
    {
     "data": {
      "text/html": [
       "Syncing run <strong><a href='https://wandb.ai/upstage6_doc_classification/huggingface/runs/iedplabw' target=\"_blank\">autumn-resonance-15</a></strong> to <a href='https://wandb.ai/upstage6_doc_classification/huggingface' target=\"_blank\">Weights & Biases</a> (<a href='https://wandb.me/run' target=\"_blank\">docs</a>)<br/>"
      ],
      "text/plain": [
       "<IPython.core.display.HTML object>"
      ]
     },
     "metadata": {},
     "output_type": "display_data"
    },
    {
     "data": {
      "text/html": [
       " View project at <a href='https://wandb.ai/upstage6_doc_classification/huggingface' target=\"_blank\">https://wandb.ai/upstage6_doc_classification/huggingface</a>"
      ],
      "text/plain": [
       "<IPython.core.display.HTML object>"
      ]
     },
     "metadata": {},
     "output_type": "display_data"
    },
    {
     "data": {
      "text/html": [
       " View run at <a href='https://wandb.ai/upstage6_doc_classification/huggingface/runs/iedplabw' target=\"_blank\">https://wandb.ai/upstage6_doc_classification/huggingface/runs/iedplabw</a>"
      ],
      "text/plain": [
       "<IPython.core.display.HTML object>"
      ]
     },
     "metadata": {},
     "output_type": "display_data"
    },
    {
     "name": "stderr",
     "output_type": "stream",
     "text": [
      "You're using a T5TokenizerFast tokenizer. Please note that with a fast tokenizer, using the `__call__` method is faster than using a method to encode the text followed by a call to the `pad` method to get a padded encoding.\n"
     ]
    },
    {
     "data": {
      "text/html": [
       "\n",
       "    <div>\n",
       "      \n",
       "      <progress value='248' max='248' style='width:300px; height:20px; vertical-align: middle;'></progress>\n",
       "      [248/248 01:33, Epoch 4/4]\n",
       "    </div>\n",
       "    <table border=\"1\" class=\"dataframe\">\n",
       "  <thead>\n",
       " <tr style=\"text-align: left;\">\n",
       "      <th>Epoch</th>\n",
       "      <th>Training Loss</th>\n",
       "      <th>Validation Loss</th>\n",
       "      <th>Rouge1</th>\n",
       "      <th>Rouge2</th>\n",
       "      <th>Rougel</th>\n",
       "      <th>Rougelsum</th>\n",
       "      <th>Gen Len</th>\n",
       "    </tr>\n",
       "  </thead>\n",
       "  <tbody>\n",
       "    <tr>\n",
       "      <td>1</td>\n",
       "      <td>No log</td>\n",
       "      <td>2.860428</td>\n",
       "      <td>0.130800</td>\n",
       "      <td>0.037500</td>\n",
       "      <td>0.108700</td>\n",
       "      <td>0.108600</td>\n",
       "      <td>19.000000</td>\n",
       "    </tr>\n",
       "    <tr>\n",
       "      <td>2</td>\n",
       "      <td>No log</td>\n",
       "      <td>2.652555</td>\n",
       "      <td>0.137200</td>\n",
       "      <td>0.047500</td>\n",
       "      <td>0.114900</td>\n",
       "      <td>0.114400</td>\n",
       "      <td>19.000000</td>\n",
       "    </tr>\n",
       "    <tr>\n",
       "      <td>3</td>\n",
       "      <td>No log</td>\n",
       "      <td>2.592746</td>\n",
       "      <td>0.140900</td>\n",
       "      <td>0.049600</td>\n",
       "      <td>0.116500</td>\n",
       "      <td>0.116500</td>\n",
       "      <td>19.000000</td>\n",
       "    </tr>\n",
       "    <tr>\n",
       "      <td>4</td>\n",
       "      <td>No log</td>\n",
       "      <td>2.576018</td>\n",
       "      <td>0.143100</td>\n",
       "      <td>0.052200</td>\n",
       "      <td>0.118500</td>\n",
       "      <td>0.118300</td>\n",
       "      <td>19.000000</td>\n",
       "    </tr>\n",
       "  </tbody>\n",
       "</table><p>"
      ],
      "text/plain": [
       "<IPython.core.display.HTML object>"
      ]
     },
     "metadata": {},
     "output_type": "display_data"
    },
    {
     "data": {
      "text/plain": [
       "TrainOutput(global_step=248, training_loss=3.0191254154328377, metrics={'train_runtime': 98.6464, 'train_samples_per_second': 40.103, 'train_steps_per_second': 2.514, 'total_flos': 1070824333246464.0, 'train_loss': 3.0191254154328377, 'epoch': 4.0})"
      ]
     },
     "execution_count": 11,
     "metadata": {},
     "output_type": "execute_result"
    }
   ],
   "source": [
    "training_args = Seq2SeqTrainingArguments(\n",
    "    output_dir=\"./my_awesome_billsum_model/\",\n",
    "    evaluation_strategy=\"epoch\",\n",
    "    learning_rate=2e-5,\n",
    "    per_device_train_batch_size=16,\n",
    "    per_device_eval_batch_size=16,\n",
    "    weight_decay=0.01,\n",
    "    save_total_limit=3,\n",
    "    num_train_epochs=4,\n",
    "    predict_with_generate=True,\n",
    "    fp16=True,\n",
    "    # push_to_hub=True,\n",
    ")\n",
    "\n",
    "trainer = Seq2SeqTrainer(\n",
    "    model=model,\n",
    "    args=training_args,\n",
    "    train_dataset=tokenized_billsum[\"train\"],\n",
    "    eval_dataset=tokenized_billsum[\"test\"],\n",
    "    tokenizer=tokenizer,\n",
    "    data_collator=data_collator,\n",
    "    compute_metrics=compute_metrics,\n",
    ")\n",
    "\n",
    "trainer.train()"
   ]
  }
 ],
 "metadata": {
  "kernelspec": {
   "display_name": "base",
   "language": "python",
   "name": "python3"
  },
  "language_info": {
   "codemirror_mode": {
    "name": "ipython",
    "version": 3
   },
   "file_extension": ".py",
   "mimetype": "text/x-python",
   "name": "python",
   "nbconvert_exporter": "python",
   "pygments_lexer": "ipython3",
   "version": "3.10.13"
  }
 },
 "nbformat": 4,
 "nbformat_minor": 2
}
